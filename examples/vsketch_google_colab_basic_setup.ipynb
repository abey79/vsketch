{
  "nbformat": 4,
  "nbformat_minor": 0,
  "metadata": {
    "colab": {
      "name": "vsketch_google_colab_basic_setup",
      "provenance": [],
      "collapsed_sections": [
        "fie8YrVfRT-U"
      ],
      "toc_visible": true,
      "authorship_tag": "ABX9TyNAi8qOcsII0PnLQoW+oo1T",
      "include_colab_link": true
    },
    "kernelspec": {
      "name": "python3",
      "display_name": "Python 3"
    }
  },
  "cells": [
    {
      "cell_type": "markdown",
      "metadata": {
        "id": "view-in-github",
        "colab_type": "text"
      },
      "source": [
        "<a href=\"https://colab.research.google.com/github/DARKFRACTURES/vsketch/blob/master/examples/vsketch_google_colab_basic_setup.ipynb\" target=\"_parent\"><img src=\"https://colab.research.google.com/assets/colab-badge.svg\" alt=\"Open In Colab\"/></a>"
      ]
    },
    {
      "cell_type": "markdown",
      "metadata": {
        "id": "fie8YrVfRT-U",
        "colab_type": "text"
      },
      "source": [
        "### info"
      ]
    },
    {
      "cell_type": "markdown",
      "metadata": {
        "id": "y4u_kroEQFkP",
        "colab_type": "text"
      },
      "source": [
        "this notebook is a basic setup for running [vsketch](https://github.com/abey79/vsketch) on Google Colab. \n",
        "\n",
        "notebook made by [dark fractures.](https://www.darkfractures.com)"
      ]
    },
    {
      "cell_type": "markdown",
      "metadata": {
        "id": "cfk9KmOPQP2F",
        "colab_type": "text"
      },
      "source": [
        "### setup"
      ]
    },
    {
      "cell_type": "code",
      "metadata": {
        "id": "ojK154g7bGlq",
        "colab_type": "code",
        "colab": {}
      },
      "source": [
        "!git clone https://github.com/abey79/vsketch\n",
        "%cd vsketch\n",
        "!pip install --upgrade pip\n",
        "!pip install -r requirements.txt\n",
        "!pip install -e ."
      ],
      "execution_count": null,
      "outputs": []
    },
    {
      "cell_type": "markdown",
      "metadata": {
        "id": "B8G7B0v0QToC",
        "colab_type": "text"
      },
      "source": [
        "### sketch"
      ]
    },
    {
      "cell_type": "code",
      "metadata": {
        "id": "oLLZgsv8bLak",
        "colab_type": "code",
        "colab": {}
      },
      "source": [
        "# example of sketch setup, taken from the 'detail.ipynb' notebook in 'examples'.\n",
        "\n",
        "%load_ext autoreload\n",
        "%autoreload 2\n",
        "\n",
        "#  use `widget` for interactive plot\n",
        "%matplotlib inline\n",
        "\n",
        "\n",
        "from matplotlib import rcParams\n",
        "\n",
        "rcParams[\"figure.figsize\"] = (14, 10)"
      ],
      "execution_count": 2,
      "outputs": []
    },
    {
      "cell_type": "code",
      "metadata": {
        "id": "BvYUlUXXbsod",
        "colab_type": "code",
        "colab": {}
      },
      "source": [
        "# example sketch, taken from the 'detail.ipynb' notebook in 'examples'.\n",
        "\n",
        "import math\n",
        "\n",
        "import numpy as np\n",
        "\n",
        "import vsketch\n",
        "\n",
        "vsk = vsketch.Vsketch()\n",
        "vsk.size(\"a5\", landscape=True)\n",
        "vsk.scale(\"1cm\")\n",
        "\n",
        "# high level of detail\n",
        "vsk.detail(\"0.1mm\")\n",
        "vsk.circle(0, 0, 1)\n",
        "vsk.circle(0, 0, 2)\n",
        "with vsk.pushMatrix():\n",
        "    vsk.scale(4)\n",
        "    vsk.circle(0, 0, 1)\n",
        "\n",
        "# rough level of detail\n",
        "vsk.translate(7, 0)\n",
        "vsk.detail(\"5mm\")\n",
        "vsk.circle(0, 0, 1)\n",
        "vsk.circle(0, 0, 2)\n",
        "with vsk.pushMatrix():\n",
        "    vsk.scale(4)\n",
        "    vsk.circle(0, 0, 1)\n",
        "\n",
        "# hardly usable level of detail\n",
        "vsk.translate(7, 0)\n",
        "vsk.detail(\"2cm\")\n",
        "vsk.circle(0, 0, 1)\n",
        "vsk.circle(0, 0, 2)\n",
        "with vsk.pushMatrix():\n",
        "    vsk.scale(4)\n",
        "    vsk.circle(0, 0, 1)\n",
        "\n",
        "vsk.plot()\n",
        "vsk.save(\"detail.svg\")"
      ],
      "execution_count": null,
      "outputs": []
    }
  ]
}